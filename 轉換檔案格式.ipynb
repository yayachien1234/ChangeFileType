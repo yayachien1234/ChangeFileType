{
 "cells": [
  {
   "cell_type": "code",
   "execution_count": null,
   "metadata": {},
   "outputs": [],
   "source": [
    "import csv\n",
    "import glob\n",
    "name_order =  []\n",
    "for name in name_order:\n",
    "    matching_files = glob.glob(f\"*{name}*.csv\")\n",
    "    matching_files2 = glob.glob(f\"*{name}*.xlsx\")\n",
    "    if matching_files:\n",
    "        \n",
    "        try:\n",
    "            # 输入文件（Big-5编码）\n",
    "            input_file = matching_files[0]\n",
    "\n",
    "            # 输出文件（UTF-8编码）\n",
    "            output_file = f\"*{name}*.csv\"\n",
    "\n",
    "            # 打开输入文件（以Big-5编码方式读取）\n",
    "            with open(input_file, 'r', encoding='big5') as input_csvfile:\n",
    "                # 打开输出文件（以UTF-8编码方式写入）\n",
    "                with open(output_file, 'w', encoding='utf-8', newline='') as output_csvfile:\n",
    "                    # 读取Big-5编码的CSV文件\n",
    "                    reader = csv.reader(input_csvfile)\n",
    "                    \n",
    "                    # 创建UTF-8编码的CSV写入对象\n",
    "                    writer = csv.writer(output_csvfile)\n",
    "                    \n",
    "                    # 逐行读取并写入\n",
    "                    for row in reader:\n",
    "                        writer.writerow(row)\n",
    "\n",
    "            print(f'已将 {input_file} 转换为 UTF-8 编码的文件 {output_file}')\n",
    "            \n",
    "        except FileNotFoundError:\n",
    "            print(f\"文件 {output_file} 未找到.\")\n",
    "\n"
   ]
  },
  {
   "cell_type": "code",
   "execution_count": null,
   "metadata": {},
   "outputs": [],
   "source": [
    "import pandas as pd\n",
    "import glob\n",
    "name_order =  []\n",
    "\n",
    "\n",
    "for name in name_order:\n",
    "    matching_files = glob.glob(f\"*{name}*.csv\")\n",
    "    matching_files2 = glob.glob(f\"*{name}*.xlsx\")\n",
    "    if matching_files:\n",
    "        csv_file = matching_files[0]\n",
    "        try:\n",
    "            df = pd.read_csv(csv_file, encoding='utf-8')\n",
    "            # 將DataFrame寫入XLSX檔案\n",
    "            xlsx_file = f'{name}.xlsx'  # 指定要保存的XLSX檔案名稱\n",
    "            df.to_excel(xlsx_file, index=False)\n",
    "            print(f'已將CSV檔案轉換為XLSX檔案：{xlsx_file}')\n",
    "        except FileNotFoundError:\n",
    "            print(f\"文件 {csv_file} 未找到.\")\n",
    "\n",
    "    # if matching_files2:\n",
    "    #     xlsx_file = f'{name}.xlsx'\n",
    "    #     try:\n",
    "    #         pd.ExcelFile(matching_files2[0]).save(xlsx_file)\n",
    "    #         print(f'已將舊xlsx檔案轉換為新XLSX檔案：{xlsx_file}')\n",
    "\n",
    "    #     except:\n",
    "\n",
    "\n",
    "\n",
    "\n",
    "\n",
    "\n"
   ]
  }
 ],
 "metadata": {
  "kernelspec": {
   "display_name": ".venv",
   "language": "python",
   "name": "python3"
  },
  "language_info": {
   "codemirror_mode": {
    "name": "ipython",
    "version": 3
   },
   "file_extension": ".py",
   "mimetype": "text/x-python",
   "name": "python",
   "nbconvert_exporter": "python",
   "pygments_lexer": "ipython3",
   "version": "3.11.3"
  },
  "orig_nbformat": 4
 },
 "nbformat": 4,
 "nbformat_minor": 2
}
