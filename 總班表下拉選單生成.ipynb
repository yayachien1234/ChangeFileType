{
 "cells": [
  {
   "cell_type": "code",
   "execution_count": null,
   "metadata": {},
   "outputs": [],
   "source": [
    "pip install glob"
   ]
  },
  {
   "cell_type": "markdown",
   "metadata": {},
   "source": [
    "## 將個人班表根據順序統整成總班表"
   ]
  },
  {
   "cell_type": "code",
   "execution_count": null,
   "metadata": {},
   "outputs": [],
   "source": [
    "import openpyxl\n",
    "from openpyxl import load_workbook\n",
    "import glob  # 导入glob库\n",
    "# 建立新的工作簿\n",
    "workbook = openpyxl.Workbook()\n",
    "\n",
    "# 選取預設的工作表\n",
    "sheet = workbook.active\n",
    "\n",
    "# 設定第一行的內容\n",
    "header_row = [\n",
    "    2023, 1, 2, 3, 4, 5, 6, 7, 8, 9, 10,\n",
    "    11, 12, 13, 14, 15, 16, 17, 18, 19, 20,\n",
    "    21, 22, 23, 24, 25, 26, 27, 28, 29, 30\n",
    "]\n",
    "# 將第一行內容寫入工作表\n",
    "sheet.append(header_row)\n",
    "\n",
    "# 設定第二行的內容，星期幾的文本內容\n",
    "weekdays_row = [\n",
    "    11, \"三\", \"四\", \"五\", \"六\",\n",
    "    \"日\", \"一\", \"二\", \"三\", \"四\", \"五\", \"六\", \"日\", \"一\",\n",
    "    \"二\", \"三\", \"四\", \"五\", \"六\", \"日\", \"一\", \"二\", \"三\",\n",
    "    \"四\", \"五\", \"六\", \"日\", \"一\"\n",
    "]\n",
    "sheet.append(weekdays_row)\n",
    "\n",
    "#---------建立名字list的順序--------------\n",
    "name_order =  []\n",
    "\n",
    "\n",
    "total_class_schedule = []\n",
    "\n",
    "for name in name_order:\n",
    "    # 使用glob库来查找包含指定名字部分的文件\n",
    "    matching_files = glob.glob(f\"*{name}*.xlsx\")\n",
    "\n",
    "    if matching_files:\n",
    "        # 如果找到匹配的文件，选择第一个匹配的文件\n",
    "        file_name = matching_files[0]\n",
    "        try:\n",
    "            wb = load_workbook(file_name)  # 加载 Excel 文件\n",
    "            sheet0 = wb.active\n",
    "            third_row = [cell.value for cell in sheet0[3]]  # 获取第三行数据并转换为列表\n",
    "            sheet.append(third_row)  # 匯入 + append 個人班表到總班表中\n",
    "        except FileNotFoundError:\n",
    "            print(f\"文件 {file_name} 未找到.\")\n",
    "    else:\n",
    "        print(f\"未找到包含'{name}'的文件.\")\n",
    "\n",
    "\n",
    "# 儲存工作簿為指定的檔案名稱\n",
    "workbook.save(\"11月總班表(無下拉式選單).xlsx\")\n",
    "\n",
    "print(\"已成功建立並儲存測試版總班表(無下拉式選單).xlsx\")\n"
   ]
  },
  {
   "cell_type": "markdown",
   "metadata": {},
   "source": [
    "## 添加下拉式選單"
   ]
  },
  {
   "cell_type": "code",
   "execution_count": 6,
   "metadata": {},
   "outputs": [],
   "source": [
    "import openpyxl\n",
    "from openpyxl.worksheet.datavalidation import DataValidation\n",
    "\n",
    "#-----------匯入檔案-------------\n",
    "\n",
    "wb = openpyxl.load_workbook('11月總班表(無下拉式選單).xlsx')\n",
    "sheet = wb.active\n",
    "my_list = []\n",
    "none_list = []\n",
    "\n",
    "#----------儲存空格位置----------\n",
    "\n",
    "for i in range(1, sheet.max_row+1):\n",
    "    for j in range(1, sheet.max_column+1):\n",
    "        # print(sheet.cell(row = i, column = j).value)\n",
    "        if sheet.cell(row = i, column = j).value is None or sheet.cell(row = i, column = j).value == \" \":\n",
    "            my_list.append([i, j])\n",
    "\n",
    "#----------將位置資訊轉成xlsx可以用的英文位置資訊----------\n",
    "\n",
    "def number_to_excel_column(num):\n",
    "    result = \"\"\n",
    "    while num > 0:\n",
    "        num -= 1\n",
    "        result = chr(num % 26 + 65) + result\n",
    "        num //= 26\n",
    "    return result\n",
    "\n",
    "\n",
    "for sublist in my_list:\n",
    "    i, j = sublist\n",
    "    letter = number_to_excel_column(j)\n",
    "    none_list.append(f\"{letter}{i}\")\n",
    "\n",
    "#----------利用上面儲存好了的位置資訊添加下拉式選單-------------\n",
    "\n",
    "name_options = '\"國內旅遊, 國外旅遊, 員工旅遊, 元旦, 228, 國慶, 清明, 端午, 中秋, 過年, 兒童, 勞動,上課, 婚假, 喪假, 病假, 公假, 產假, 事假, 育嬰假, 家庭照顧假,OFF, 102, 103, 105,AM, 207, 208, 215, PM, 公A, 315, 公P,73, 73\\', 95, 85, 128, 128訪視, 210, E, E小夜當家, N, D, D°, PM°, OFF°, 271, 護, OFF+, 體檢支援,210+, N+, E+, 128+,210+, N+, E+, 128+,OFF+, 275, 262, D\\', 8054,D°, PM°, OFF°\"'\n",
    "name = DataValidation(type='list', formula1=name_options, allow_blank=True)\n",
    "sheet.add_data_validation(name)\n",
    "\n",
    "for i in none_list:\n",
    "    name.add(f'{i}')\n",
    "\n",
    "#---------匯出檔案----------\n",
    "wb.save('11月總班表(有下拉選單).xlsx')\n"
   ]
  },
  {
   "cell_type": "code",
   "execution_count": 7,
   "metadata": {},
   "outputs": [
    {
     "ename": "NameError",
     "evalue": "name 'pd' is not defined",
     "output_type": "error",
     "traceback": [
      "\u001b[1;31m---------------------------------------------------------------------------\u001b[0m",
      "\u001b[1;31mNameError\u001b[0m                                 Traceback (most recent call last)",
      "\u001b[1;32mc:\\Users\\USER\\OneDrive - 國立成功大學 National Cheng Kung University\\JUBO - 專題\\pandas-demo\\11月預排班表\\總班表下拉選單生成.ipynb 儲存格 6\u001b[0m line \u001b[0;36m1\n\u001b[1;32m----> <a href='vscode-notebook-cell:/c%3A/Users/USER/OneDrive%20-%20%E5%9C%8B%E7%AB%8B%E6%88%90%E5%8A%9F%E5%A4%A7%E5%AD%B8%20National%20Cheng%20Kung%20University/JUBO%20-%20%E5%B0%88%E9%A1%8C/pandas-demo/11%E6%9C%88%E9%A0%90%E6%8E%92%E7%8F%AD%E8%A1%A8/%E7%B8%BD%E7%8F%AD%E8%A1%A8%E4%B8%8B%E6%8B%89%E9%81%B8%E5%96%AE%E7%94%9F%E6%88%90.ipynb#W4sZmlsZQ%3D%3D?line=0'>1</a>\u001b[0m df \u001b[39m=\u001b[39m pd\u001b[39m.\u001b[39mread_excel(\u001b[39m'\u001b[39m\u001b[39m測試版總班表(有下拉選單).xlsx\u001b[39m\u001b[39m'\u001b[39m)\n\u001b[0;32m      <a href='vscode-notebook-cell:/c%3A/Users/USER/OneDrive%20-%20%E5%9C%8B%E7%AB%8B%E6%88%90%E5%8A%9F%E5%A4%A7%E5%AD%B8%20National%20Cheng%20Kung%20University/JUBO%20-%20%E5%B0%88%E9%A1%8C/pandas-demo/11%E6%9C%88%E9%A0%90%E6%8E%92%E7%8F%AD%E8%A1%A8/%E7%B8%BD%E7%8F%AD%E8%A1%A8%E4%B8%8B%E6%8B%89%E9%81%B8%E5%96%AE%E7%94%9F%E6%88%90.ipynb#W4sZmlsZQ%3D%3D?line=1'>2</a>\u001b[0m df\n",
      "\u001b[1;31mNameError\u001b[0m: name 'pd' is not defined"
     ]
    }
   ],
   "source": [
    "df = pd.read_excel('測試版總班表(有下拉選單).xlsx')\n",
    "df"
   ]
  },
  {
   "cell_type": "markdown",
   "metadata": {},
   "source": [
    "# 總班表隨機生成"
   ]
  },
  {
   "cell_type": "code",
   "execution_count": null,
   "metadata": {},
   "outputs": [],
   "source": [
    "import pandas as pd\n",
    "import numpy as np\n",
    "import os\n",
    "\n",
    "# 輸出存放位址\n",
    "output_directory = 'output_data'\n",
    "if not os.path.exists(output_directory):\n",
    "    os.makedirs(output_directory)\n",
    "# 讀file\n",
    "excel_file_path = '112年10月總班表(含下拉選單).xlsx'\n",
    "df = pd.read_excel(excel_file_path)\n",
    "\n",
    "# 第一列和其他列\n",
    "col_to_lock = df.columns[0]\n",
    "cols_to_randomize = df.columns[1:]\n",
    "\n",
    "# 隨機數據\n",
    "for i in range(200):\n",
    "    # 複製隨機數據\n",
    "    df_cols_copy = df[cols_to_randomize].copy()\n",
    "\n",
    "    df_cols_copy = df_cols_copy.apply(np.random.permutation, axis=0)\n",
    "   \n",
    "    df[cols_to_randomize] = df_cols_copy\n",
    "\n",
    "    output_path = f'output_data/output_{i + 1}.csv'\n",
    "    df.to_csv(output_path, index=False)\n",
    "df[col_to_lock] = df[col_to_lock]\n",
    "\n",
    "df.to_csv('output_data/original_data.csv', index=False)"
   ]
  }
 ],
 "metadata": {
  "kernelspec": {
   "display_name": ".venv",
   "language": "python",
   "name": "python3"
  },
  "language_info": {
   "codemirror_mode": {
    "name": "ipython",
    "version": 3
   },
   "file_extension": ".py",
   "mimetype": "text/x-python",
   "name": "python",
   "nbconvert_exporter": "python",
   "pygments_lexer": "ipython3",
   "version": "3.11.3"
  },
  "orig_nbformat": 4
 },
 "nbformat": 4,
 "nbformat_minor": 2
}
